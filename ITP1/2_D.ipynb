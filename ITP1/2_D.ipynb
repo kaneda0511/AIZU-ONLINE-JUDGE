{
 "cells": [
  {
   "cell_type": "code",
   "execution_count": 7,
   "id": "c4c89ccd",
   "metadata": {},
   "outputs": [
    {
     "name": "stdout",
     "output_type": "stream",
     "text": [
      "5 4 2 4 1\n",
      "No\n"
     ]
    }
   ],
   "source": [
    "W,H,x,y,r = map(int,input().split())\n",
    "\n",
    "if x+r<=W and y+r<=H and 0<=x-r and 0<=y-r:\n",
    "    print(\"Yes\")\n",
    "else:\n",
    "    print(\"No\")"
   ]
  },
  {
   "cell_type": "code",
   "execution_count": 8,
   "id": "d6e6e43d",
   "metadata": {},
   "outputs": [
    {
     "data": {
      "text/plain": [
       "(3, 5)"
      ]
     },
     "execution_count": 8,
     "metadata": {},
     "output_type": "execute_result"
    }
   ],
   "source": [
    "(x+r,y+r)"
   ]
  },
  {
   "cell_type": "code",
   "execution_count": 9,
   "id": "ff31b974",
   "metadata": {},
   "outputs": [
    {
     "data": {
      "text/plain": [
       "(5, 4)"
      ]
     },
     "execution_count": 9,
     "metadata": {},
     "output_type": "execute_result"
    }
   ],
   "source": [
    "(W,H)"
   ]
  },
  {
   "cell_type": "code",
   "execution_count": null,
   "id": "de880eb8",
   "metadata": {},
   "outputs": [],
   "source": []
  }
 ],
 "metadata": {
  "kernelspec": {
   "display_name": "Python 3",
   "language": "python",
   "name": "python3"
  },
  "language_info": {
   "codemirror_mode": {
    "name": "ipython",
    "version": 3
   },
   "file_extension": ".py",
   "mimetype": "text/x-python",
   "name": "python",
   "nbconvert_exporter": "python",
   "pygments_lexer": "ipython3",
   "version": "3.8.8"
  }
 },
 "nbformat": 4,
 "nbformat_minor": 5
}
