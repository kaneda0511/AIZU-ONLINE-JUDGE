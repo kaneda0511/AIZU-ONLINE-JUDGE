{
 "cells": [
  {
   "cell_type": "code",
   "execution_count": 39,
   "id": "d8919725",
   "metadata": {},
   "outputs": [
    {
     "name": "stdout",
     "output_type": "stream",
     "text": [
      "5\n",
      "10 1 5 4 17\n",
      "1 17 37\n"
     ]
    }
   ],
   "source": [
    "n = int(input())\n",
    "a = list(map(int,input().split()))\n",
    "\n",
    "print(min(a),max(a),sum(a),sep=\" \")"
   ]
  },
  {
   "cell_type": "code",
   "execution_count": 40,
   "id": "e154dc74",
   "metadata": {},
   "outputs": [
    {
     "name": "stdout",
     "output_type": "stream",
     "text": [
      "5\n",
      "10 1 5 4 17\n",
      "1 17 37\n"
     ]
    }
   ],
   "source": [
    "n = int(input())\n",
    "A = list(map(int, input().split()))\n",
    "\n",
    "max_a = -1000001\n",
    "min_a = 1000001\n",
    "total = 0\n",
    "\n",
    "for a in A:\n",
    "    if a > max_a:\n",
    "        max_a = a\n",
    "    if a < min_a:\n",
    "        min_a = a\n",
    "    total += a\n",
    "\n",
    "print(min_a, max_a, total, sep=' ')"
   ]
  }
 ],
 "metadata": {
  "kernelspec": {
   "display_name": "Python 3",
   "language": "python",
   "name": "python3"
  },
  "language_info": {
   "codemirror_mode": {
    "name": "ipython",
    "version": 3
   },
   "file_extension": ".py",
   "mimetype": "text/x-python",
   "name": "python",
   "nbconvert_exporter": "python",
   "pygments_lexer": "ipython3",
   "version": "3.8.8"
  }
 },
 "nbformat": 4,
 "nbformat_minor": 5
}
