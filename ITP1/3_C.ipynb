{
 "cells": [
  {
   "cell_type": "code",
   "execution_count": 10,
   "id": "43f23788",
   "metadata": {},
   "outputs": [
    {
     "name": "stdout",
     "output_type": "stream",
     "text": [
      "1 2\n",
      "1 2\n",
      "2 3\n",
      "2 3\n",
      "3 1\n",
      "1 3\n",
      "1 3\n",
      "1 3\n",
      "0 0\n"
     ]
    }
   ],
   "source": [
    "while True:\n",
    "    x,y = map(int,input().split())\n",
    "    if x== 0 and y==0:\n",
    "        break\n",
    "    elif x>y:\n",
    "        x,y=y,x\n",
    "    print(x,y,sep=\" \")"
   ]
  }
 ],
 "metadata": {
  "kernelspec": {
   "display_name": "Python 3",
   "language": "python",
   "name": "python3"
  },
  "language_info": {
   "codemirror_mode": {
    "name": "ipython",
    "version": 3
   },
   "file_extension": ".py",
   "mimetype": "text/x-python",
   "name": "python",
   "nbconvert_exporter": "python",
   "pygments_lexer": "ipython3",
   "version": "3.8.8"
  }
 },
 "nbformat": 4,
 "nbformat_minor": 5
}
