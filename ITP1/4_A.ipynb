{
 "cells": [
  {
   "cell_type": "code",
   "execution_count": 5,
   "id": "0ee2e84a",
   "metadata": {},
   "outputs": [
    {
     "name": "stdout",
     "output_type": "stream",
     "text": [
      "3 2\n",
      "1 1 1.50000\n"
     ]
    }
   ],
   "source": [
    "import math\n",
    "a,b = map(int,input().split())\n",
    "d=math.floor(a/b)\n",
    "r=a%b\n",
    "f=a/b\n",
    "print(d,r,format(f,\".5f\"),sep=\" \")"
   ]
  }
 ],
 "metadata": {
  "kernelspec": {
   "display_name": "Python 3",
   "language": "python",
   "name": "python3"
  },
  "language_info": {
   "codemirror_mode": {
    "name": "ipython",
    "version": 3
   },
   "file_extension": ".py",
   "mimetype": "text/x-python",
   "name": "python",
   "nbconvert_exporter": "python",
   "pygments_lexer": "ipython3",
   "version": "3.8.8"
  }
 },
 "nbformat": 4,
 "nbformat_minor": 5
}
