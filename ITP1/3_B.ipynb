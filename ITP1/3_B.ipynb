{
 "cells": [
  {
   "cell_type": "code",
   "execution_count": 7,
   "id": "978a13ba",
   "metadata": {},
   "outputs": [
    {
     "name": "stdout",
     "output_type": "stream",
     "text": [
      "1\n",
      "Case1: 1\n",
      "2\n",
      "Case2: 2\n",
      "3\n",
      "Case3: 3\n",
      "4\n",
      "Case4: 4\n",
      "5\n",
      "Case5: 5\n",
      "555\n",
      "Case6: 555\n",
      "4\n",
      "Case7: 4\n",
      "0\n"
     ]
    }
   ],
   "source": [
    "num = 1\n",
    "while True:\n",
    "    x=int(input())\n",
    "    if x==0: break\n",
    "    print(\"Case{0}: {1}\".format(num,x))\n",
    "    num+=1"
   ]
  },
  {
   "cell_type": "markdown",
   "id": "02e52ad9",
   "metadata": {},
   "source": [
    "caseXXXを出力するための変数numを初期値1で定義。\n",
    "\n",
    "\n",
    " ・while文の中身：\n",
    "　\n",
    " \n",
    " 入力値をint型に変換しつつxに格納。\n",
    "　\n",
    " \n",
    " ※もしx(入力値)が0ならwhileループを抜ける。\n",
    "　\n",
    " \n",
    " num(caseの番号)と、x(入力値)を表示。\n",
    " \n",
    " \n",
    " numに1足す。"
   ]
  },
  {
   "cell_type": "code",
   "execution_count": 9,
   "id": "6b8da52b",
   "metadata": {},
   "outputs": [
    {
     "name": "stdout",
     "output_type": "stream",
     "text": [
      "1\n",
      "Case 1: 1\n",
      "2\n",
      "Case 2: 2\n",
      "3\n",
      "Case 3: 3\n",
      "4\n",
      "Case 4: 4\n",
      "2\n",
      "Case 5: 2\n",
      "211\n",
      "Case 6: 211\n",
      "0\n"
     ]
    }
   ],
   "source": [
    "i = 1\n",
    "while True:\n",
    "    x = int(input())\n",
    "    if x == 0: break\n",
    "    print(\"Case {}: {}\".format(i, x))\n",
    "    i += 1"
   ]
  },
  {
   "cell_type": "code",
   "execution_count": 14,
   "id": "52af1a27",
   "metadata": {},
   "outputs": [
    {
     "name": "stdout",
     "output_type": "stream",
     "text": [
      "1\n",
      "2\n",
      "3\n",
      "0\n",
      "Case 1: 1\n",
      "Case 2: 2\n",
      "Case 3: 3\n"
     ]
    }
   ],
   "source": [
    "num_list = []\n",
    "idx=[]\n",
    "for i in range(10000):\n",
    "    num_list.append(int(input()))\n",
    "    idx.append(i+1)\n",
    "    if num_list[i]==0:\n",
    "        num_list.pop()\n",
    "        break\n",
    "\n",
    "for j in range(len(num_list)):\n",
    "    print(\"Case {}: {}\".format(idx[j],num_list[j]))"
   ]
  },
  {
   "cell_type": "markdown",
   "id": "ce3d76db",
   "metadata": {},
   "source": [
    "###### 1.入力した整数用のリスト、インデックス用のリストを用意する\n",
    "###### 2.入力用のfor文を用意し、入力処理を行う\n",
    "###### 3.入力用のfor分の中で、入力した整数が０の時に入力用のループを抜けるif文を設定する\n",
    "###### 4.入力用のfor文を用意する"
   ]
  },
  {
   "cell_type": "markdown",
   "id": "84592356",
   "metadata": {},
   "source": [
    "## pop関数とは\n",
    "リストから指定した要素を削除する関数"
   ]
  }
 ],
 "metadata": {
  "kernelspec": {
   "display_name": "Python 3",
   "language": "python",
   "name": "python3"
  },
  "language_info": {
   "codemirror_mode": {
    "name": "ipython",
    "version": 3
   },
   "file_extension": ".py",
   "mimetype": "text/x-python",
   "name": "python",
   "nbconvert_exporter": "python",
   "pygments_lexer": "ipython3",
   "version": "3.8.8"
  }
 },
 "nbformat": 4,
 "nbformat_minor": 5
}
