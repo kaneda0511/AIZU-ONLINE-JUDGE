{
 "cells": [
  {
   "cell_type": "code",
   "execution_count": 3,
   "id": "94f18fbc",
   "metadata": {},
   "outputs": [
    {
     "name": "stdout",
     "output_type": "stream",
     "text": [
      "3 8 1\n",
      "1 3 8\n"
     ]
    }
   ],
   "source": [
    "a,b,c = map(int,input().split())\n",
    "if (a<=b and b<=c):\n",
    "    print(a,b,c)\n",
    "elif (a<=c and c<=b):\n",
    "    print(a,c,b)\n",
    "elif (b<=a and a<=c):\n",
    "    print(b,a,c)\n",
    "elif (b<=c and c<=a):\n",
    "    print(b,c,a)\n",
    "elif (c<=a and a<=b):\n",
    "    print(c,a,b)\n",
    "elif (c<=b and b<=a):\n",
    "    print(c,b,a)"
   ]
  },
  {
   "cell_type": "markdown",
   "id": "228abe63",
   "metadata": {},
   "source": [
    "多分for文でできる"
   ]
  }
 ],
 "metadata": {
  "kernelspec": {
   "display_name": "Python 3",
   "language": "python",
   "name": "python3"
  },
  "language_info": {
   "codemirror_mode": {
    "name": "ipython",
    "version": 3
   },
   "file_extension": ".py",
   "mimetype": "text/x-python",
   "name": "python",
   "nbconvert_exporter": "python",
   "pygments_lexer": "ipython3",
   "version": "3.8.8"
  }
 },
 "nbformat": 4,
 "nbformat_minor": 5
}
